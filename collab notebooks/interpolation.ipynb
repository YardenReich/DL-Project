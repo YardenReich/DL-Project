{
  "cells": [
    {
      "cell_type": "code",
      "execution_count": null,
      "metadata": {
        "id": "hQtfuSGTk7OV",
        "cellView": "form"
      },
      "outputs": [],
      "source": [
        "#@title Download model\n",
        "%%capture\n",
        "\n",
        "import os\n",
        "\n",
        "!pip install git+https://github.com/YardenReich/DL-Project.git\n",
        "\n",
        "import gdown\n",
        "\n",
        "url = \"https://drive.google.com/uc?export=download&id=1uNS2G3908KpiJ7sPfLYev36NTGJHuptM\"\n",
        "output = \"model_first.pt\"\n",
        "gdown.download(url, output, quiet=True)\n",
        "\n",
        "url = \"https://drive.google.com/uc?export=download&id=1SZYE7CDWMJehD0MN0c8inp9e-IZKRHq1\"\n",
        "output = \"model_second.pt\"\n",
        "gdown.download(url, output, quiet=True)\n",
        "\n",
        "url = \"https://drive.google.com/uc?export=download&id=1FaDEveOI1Gotf1YTP_aP-4yqH5PIdnCp\"\n",
        "output = \"data.csv\"\n",
        "gdown.download(url, output, quiet=True)\n",
        "\n",
        "url = \"https://drive.google.com/file/d/1rZ2PMevI54zA7VaKV37Euh66SE-Hh060\"\n",
        "output = \"image1.jpg\"\n",
        "gdown.download(url, output, quiet=True)\n",
        "\n",
        "url = \"https://drive.google.com/file/d/1wV5Y3z96vNlRlJXhy0TuO8AYsMdyF7i6\"\n",
        "output = \"image2.jpg\"\n",
        "gdown.download(url, output, quiet=True)\n",
        "\n",
        "os.makedirs(\"images\", exist_ok=True)\n",
        "url = \"https://drive.google.com/drive/folders/1aQ0vBOZ_aJr_LhEiJgakCGMnu2nDBE08\"\n",
        "output = \"./images/burn_images\"\n",
        "gdown.download_folder(url=url, output=output, quiet=True)\n",
        "\n",
        "\n",
        "\n"
      ]
    },
    {
      "cell_type": "code",
      "execution_count": null,
      "metadata": {
        "cellView": "form",
        "id": "h9BnGdtRlRJ7"
      },
      "outputs": [],
      "source": [
        "#@title Imports\n",
        "import interpolation\n",
        "import argparse\n",
        "import torch\n",
        "import ipywidgets as widgets"
      ]
    },
    {
      "cell_type": "code",
      "source": [
        "#@title To upload your images\n",
        "uploader = widgets.FileUpload(\n",
        "    description='Pick files',\n",
        "    accept='.jpg,.png, .jpeg',  # Accepted file extension e.g. '.txt', '.pdf', 'image/*', 'image/*,.pdf'\n",
        "    multiple=True  # True to accept multiple files upload else False\n",
        ")\n",
        "\n",
        "button = widgets.Button(\n",
        "    description='Upload',\n",
        "    disabled=False,\n",
        "    button_style='',\n",
        "    tooltip='Click me',\n",
        "    icon='check'\n",
        ")\n",
        "\n",
        "display(uploader)\n",
        "display(button)\n",
        "\n",
        "#@title To save the upload\n",
        "def handle_upload(filename, uploader):\n",
        "    filedata = uploader.value[filename]['content']\n",
        "\n",
        "    with open(filename, 'wb') as f:\n",
        "        f.write(filedata)\n",
        "\n",
        "button.on_click(lambda _: [handle_upload(filename, uploader) for filename in uploader.value.keys()])\n",
        "\n",
        "\n",
        "# for image_name in uploader.value.keys():\n",
        "#   handle_upload(image_name, uploader)"
      ],
      "metadata": {
        "cellView": "form",
        "id": "F3RRN7VZNpaN"
      },
      "execution_count": null,
      "outputs": []
    },
    {
      "cell_type": "code",
      "execution_count": null,
      "metadata": {
        "id": "p1A4JohSkKls"
      },
      "outputs": [],
      "source": [
        "#@title Parameters { run: \"auto\", display-mode: \"form\" }\n",
        "#@markdown ### options:\n",
        "\n",
        "#@markdown Video name:\n",
        "video_name = \"video\" #@param {type:\"string\"}\n",
        "\n",
        "#@markdown First image path:\n",
        "csv_path = \"data.csv\" #@param {type:\"string\"}\n",
        "\n",
        "#@markdown First image path:\n",
        "image1_path = \"image1.jpg\" #@param {type:\"string\"}\n",
        "\n",
        "#@markdown Second image path:\n",
        "image2_path = \"image2.jpg\" #@param {type:\"string\"}\n",
        "\n",
        "#@markdown Image size:\n",
        "image_size = 480 #@param {type:\"integer\"}\n",
        "\n",
        "#@markdown Use the fisrt decoder:\n",
        "model = \"1\" #@param [1, 2]\n",
        "\n",
        "#@markdown Country of the data:\n",
        "#@markdown *First letter upper case*\n",
        "country = \"Israel\" #@param {type:\"string\"}\n",
        "\n",
        "#@markdown Use VAE attribute manipulation:\n",
        "#@markdown *Doesn't use the second image*\n",
        "attribute_manipulation = False #@param {type: \"boolean\"}\n",
        "\n",
        "#@markdown Type of interpolation:\n",
        "inter_type = 3 #@param [0, 1, 2, 3]\n",
        "\n",
        "#@markdown Quantize:\n",
        "quantize = True #@param {type:\"boolean\"}\n",
        "\n",
        "\n",
        "#@markdown ### Other Options\n",
        "\n",
        "#@markdown Frames per second:\n",
        "#@markdown *min:10 max:60*\n",
        "fps = 10 #@param {type:\"integer\"}\n",
        "\n",
        "#@markdown Add the years:\n",
        "add_text = False #@param {type: \"boolean\"}\n",
        "\n",
        "#@markdown Should the video be saved:\n",
        "save_video = True #@param {type:\"boolean\"}\n",
        "\n",
        "#@markdown Store the images:\n",
        "save_images = True #@param {type:\"boolean\"}\n",
        "\n",
        "\n",
        "\n",
        "model = int(model)\n",
        "if model == 1:\n",
        "  model_path = \"model_first.pt\"\n",
        "  first_decoder = 1\n",
        "else:\n",
        "  model_path = \"model_second.pt\"\n",
        "  first_decoder = 0"
      ]
    },
    {
      "cell_type": "code",
      "execution_count": null,
      "metadata": {
        "id": "15oXcArWn4vr",
        "cellView": "form"
      },
      "outputs": [],
      "source": [
        "#@title Parse args\n",
        "\n",
        "device = torch.device('cuda:0' if torch.cuda.is_available() else 'cpu')\n",
        "\n",
        "args = argparse.Namespace(\n",
        "    csv_path = csv_path,\n",
        "    file_name = video_name,\n",
        "    image1_path = image1_path,\n",
        "    image2_path = image2_path,\n",
        "    model_path = model_path,\n",
        "    device = device,\n",
        "    fps = fps,\n",
        "    num_codebook_vectors = 1024,\n",
        "    image_size = image_size,\n",
        "    latent_dim = 256,\n",
        "    beta = 0.25,\n",
        "    image_channels = 3,\n",
        "    batch_size = 1,\n",
        "    interpolation_type = int(inter_type),\n",
        "    country = country,\n",
        "    create_video = save_video,\n",
        "    save_images = save_images,\n",
        "    quantize = quantize,\n",
        "    first_decoder = first_decoder,\n",
        "    attribute = attribute_manipulation,\n",
        "    add_text = add_text,\n",
        ")\n"
      ]
    },
    {
      "cell_type": "code",
      "execution_count": null,
      "metadata": {
        "cellView": "form",
        "id": "DBT4CHKhr0L3"
      },
      "outputs": [],
      "source": [
        "#@title Run Interpolation\n",
        "interpolation.run_interpolation(args)"
      ]
    },
    {
      "cell_type": "code",
      "execution_count": null,
      "metadata": {
        "cellView": "form",
        "id": "vVmk8IN5tCr0"
      },
      "outputs": [],
      "source": [
        "# @title Display the video\n",
        "import os\n",
        "from base64 import b64encode\n",
        "from IPython.display import HTML\n",
        "mp4 = open(os.path.join(\"videos\", video_name + '.mp4'),'rb').read()\n",
        "data_url = \"data:video/mp4;base64,\" + b64encode(mp4).decode()\n",
        "HTML(\"\"\"\n",
        "<video width=400 controls>\n",
        "      <source src=\"%s\" type=\"video/mp4\">\n",
        "</video>\n",
        "\"\"\" % data_url)"
      ]
    }
  ],
  "metadata": {
    "colab": {
      "provenance": []
    },
    "kernelspec": {
      "display_name": "Python 3",
      "name": "python3"
    },
    "language_info": {
      "name": "python"
    }
  },
  "nbformat": 4,
  "nbformat_minor": 0
}